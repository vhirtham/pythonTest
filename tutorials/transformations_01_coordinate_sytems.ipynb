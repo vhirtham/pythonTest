{
 "cells": [
  {
   "cell_type": "markdown",
   "metadata": {},
   "source": [
    "# Introduction\n",
    "\n",
    "This tutorial is about the transformation packages `LocalCoordinateSystem` class which describes the orientation of a local cartesian coordinate system towards the reference coordinate system with: origin = (0, 0, 0), e_x = (1, 0, 0), e_y = (0, 1, 0), e_z = (0, 0, 1)). \n",
    "\n",
    "The packages required in this tutorial are:"
   ]
  },
  {
   "cell_type": "code",
   "execution_count": 1,
   "metadata": {},
   "outputs": [],
   "source": [
    "%matplotlib widget"
   ]
  },
  {
   "cell_type": "code",
   "execution_count": 2,
   "metadata": {},
   "outputs": [],
   "source": [
    "# plotting\n",
    "from mpl_toolkits.mplot3d import Axes3D  # noqa: F401 unused import\n",
    "import matplotlib.pyplot as plt\n",
    "\n",
    "#interactive plots\n",
    "import ipywidgets as widgets\n",
    "from ipywidgets import VBox, HBox, IntSlider, Checkbox, interactive_output, FloatSlider\n",
    "from IPython.display import display\n",
    "\n",
    "import numpy as np\n",
    "\n",
    "import mypackage.visualization as vs\n",
    "import mypackage.transformations as tf"
   ]
  },
  {
   "cell_type": "markdown",
   "metadata": {},
   "source": [
    "# Construction\n",
    "\n",
    "The constructor of the `LocalCoordinateSystem` class takes 2 parameters, the `basis` and the `origin`. `basis` is a 3x3 matrix, were each column is one basis vector of the local coordinate system we want to define. The basis vectors need to be orthogonal, otherwise an exception is raised. Note that every pure rotation and reflection matrix is a valid orthogonal base. `origin` is the position of the local coordinate systems origin inside the base coordinate system. Both parameters have a default value, which is equal to the reference coordinate systems value. So if no parameter is specified, we get the reference coordinate system:"
   ]
  },
  {
   "cell_type": "code",
   "execution_count": 3,
   "metadata": {},
   "outputs": [],
   "source": [
    "cs_ref = tf.LocalCoordinateSystem()"
   ]
  },
  {
   "cell_type": "markdown",
   "metadata": {},
   "source": [
    "We create some coordinate systems and visualize them using the `visualization` package. The coordinate axes are colored as follows: \n",
    "- x = red\n",
    "- y = green\n",
    "- z = blue"
   ]
  },
  {
   "cell_type": "code",
   "execution_count": 4,
   "metadata": {},
   "outputs": [
    {
     "data": {
      "application/vnd.jupyter.widget-view+json": {
       "model_id": "9f37466a5b3b4854bfc61153a97fc652",
       "version_major": 2,
       "version_minor": 0
      },
      "text/plain": [
       "Canvas(toolbar=Toolbar(toolitems=[('Home', 'Reset original view', 'home', 'home'), ('Back', 'Back to previous …"
      ]
     },
     "metadata": {},
     "output_type": "display_data"
    },
    {
     "data": {
      "text/plain": [
       "<matplotlib.legend.Legend at 0x7fa4d40562d0>"
      ]
     },
     "execution_count": 4,
     "metadata": {},
     "output_type": "execute_result"
    }
   ],
   "source": [
    "# create a translated coordinate system \n",
    "cs_01 = tf.LocalCoordinateSystem(origin = [2, 4, -1])\n",
    "\n",
    "# create a rotated coordinate system using a rotation matrix as basis\n",
    "rotation_matrix = tf.rotation_matrix_z(np.pi/3)\n",
    "cs_02 = tf.LocalCoordinateSystem(basis= rotation_matrix, origin = [0, 0, 3])\n",
    "\n",
    "# create 3d plot\n",
    "fig = plt.figure()\n",
    "ax = fig.gca(projection='3d')\n",
    "fig.canvas.layout.height=\"500px\"\n",
    "fig.canvas.layout.width=\"500px\"\n",
    "\n",
    "vs.plot_coordinate_system(cs_ref, ax, color='r', label=\"reference system\")\n",
    "vs.plot_coordinate_system(cs_01, ax, color='g', label=\"system 1\")\n",
    "vs.plot_coordinate_system(cs_02, ax, color='b', label=\"system 2\")\n",
    "vs.set_axes_equal(ax)\n",
    "plt.legend()"
   ]
  },
  {
   "cell_type": "markdown",
   "metadata": {},
   "source": [
    "Apart from the class constructor, there are some factory functions implemented to create a coordinate system. The `construct_from_orientation` provides the same functionality as the class constructor. The `construct_construct_from_xyz` takes 3 basis vectors instead of a matrix. `construct_from_xy_and_orientation`, `construct_from_xz_and_orientation` and `construct_from_yz_and_orientation` create a coordinate system with 2 basis vectors and a bool which speciefies if the coordinate system should have a positive or negative orientation. Here are some examples:"
   ]
  },
  {
   "cell_type": "code",
   "execution_count": 5,
   "metadata": {},
   "outputs": [
    {
     "data": {
      "application/vnd.jupyter.widget-view+json": {
       "model_id": "7fe2edb135584f9cb61a014085e630fc",
       "version_major": 2,
       "version_minor": 0
      },
      "text/plain": [
       "Canvas(toolbar=Toolbar(toolitems=[('Home', 'Reset original view', 'home', 'home'), ('Back', 'Back to previous …"
      ]
     },
     "metadata": {},
     "output_type": "display_data"
    },
    {
     "data": {
      "text/plain": [
       "<matplotlib.legend.Legend at 0x7fa4c47c4e10>"
      ]
     },
     "execution_count": 5,
     "metadata": {},
     "output_type": "execute_result"
    }
   ],
   "source": [
    "# coordinate system using 3 basis vectors\n",
    "e_x = [1, 2, 0]\n",
    "e_y = [-2, 1, 0]\n",
    "e_z = [0, 0, 5]\n",
    "cs_03 = tf.LocalCoordinateSystem.construct_from_xyz(e_x, e_y, e_z, origin = [1, 1, 0])\n",
    "\n",
    "# create a negatively oriented coordinate system with 2 vectors\n",
    "cs_04 = tf.LocalCoordinateSystem.construct_from_yz_and_orientation(e_y,e_z,positive_orientation=False, origin=[1,1,2])\n",
    "\n",
    "# create 3d plot\n",
    "fig = plt.figure()\n",
    "ax = fig.gca(projection='3d')\n",
    "fig.canvas.layout.height=\"500px\"\n",
    "fig.canvas.layout.width=\"500px\"\n",
    "\n",
    "vs.plot_coordinate_system(cs_ref, ax, color='r', label=\"reference system\")\n",
    "vs.plot_coordinate_system(cs_03, ax, color='g', label=\"system 3\")\n",
    "vs.plot_coordinate_system(cs_04, ax, color='b', label=\"system 4\")\n",
    "vs.set_axes_equal(ax)\n",
    "plt.legend()"
   ]
  },
  {
   "cell_type": "markdown",
   "metadata": {},
   "source": [
    "As you can see, the y and z axis of system 3 and 4 point into the same direction, since we used the same basis vectors. The automatically determined x axis of system 4 points into the opposite direction, since we wanted a system with negative orientation.\n",
    "\n",
    "# Coordinate transformations\n",
    "\n",
    "It is quite common that there exist a chain or tree like dependency between coordinate systems. We might have a moving object with a local coordinate system which describes its position and orientation towards a fixed reference coordinate system. This object can have another object attached to it, with its position and orientation given in relation to its parent objects coordinate system. If we now want the attached object coordintae system in relation to the reference coordinate system, we have to perform a coordinate transformation. \n",
    "\n",
    "The reference coordinate system can easily be changed using the `+` and `-` operators of the `LocalCoordinateSystem` class. Let's say we have 3 coordinate systems `cs_ref`, `cs_parent` and `cs_child`, with `cs_ref` being the reference coordinate system of `cs_parent` and `cs_parent` being the reference coordinate system of `cs_child`. Now we want to get a coordinate system `cs_child_ref` which is equivalent to `cs_child` but in relation to `cs_ref`. This is achieved with:\n",
    "\n",
    "~~~ python\n",
    "cs_child_ref = cs_child + cs_parent\n",
    "~~~\n",
    "\n",
    "It is important to remember that this operation is in general not cummutative, since it involves matrix multiplication which is also not commutative. During coordinate system addition, the local system that should be transformed into another coordinate system is always located to the left of the `+` or `-` operator. However, coordinate system addition is associative so that\n",
    "\n",
    "~~~ python\n",
    "cs_child_child + (cs_child + cs_parent) == (cs_child_child + cs_child) + cs_parent\n",
    "~~~\n",
    "\n",
    "So far we have seen how to transform a childs coordinate system to the reference coordinate system of its parent using the `+` operator. The `-` operator performs the opposite operation if the transformed and the target coordinate system have a **common reference coordinate system**. The following instruction cancels the previously applied addition:\n",
    "\n",
    "~~~ python\n",
    "cs_child = cs_child_ref - cs_parent\n",
    "~~~\n",
    "\n",
    "`cs_child_ref` and `cs_parent` have both `cs_ref` as reference coordinate system.\n",
    "\n",
    "As for addition, coordinate system substraction is not commutative, but in contrast to addition, it is also not associative. The reason for this is that transformed and target system must have the same reference system. To understand why this excludes associativity, look at the following example:\n",
    "\n",
    "~~~ python\n",
    "cs_01 - cs_parent - cs_child\n",
    "~~~\n",
    "\n",
    "`cs_child` has `cs_parent` as reference system and `cs_01` and `cs_parent` share a common reference system. This operation should give us `cs_01` in  relation to `cs_child`. In python it is equivalent to:\n",
    "\n",
    "~~~ python\n",
    "(cs_01 - cs_parent) - cs_child      # added paranthesis\n",
    "~~~\n",
    "\n",
    "Since `cs_01` and `cs_parent` share a common reference system, `cs_01 - cs_parent` gives us `cs_01` in relation to `cs_parent`. `cs_child` also has `cs_parent` as reference system. So we can substract `cs_child` subsequently from `cs_01 - cs_parent` to get `cs_parent` in relation to `cs_child`.\n",
    "\n",
    "Now look at the following case:\n",
    "\n",
    "~~~ python\n",
    "cs_01 - (cs_parent - cs_child)\n",
    "~~~\n",
    "\n",
    "`cs_parent - cs_child` gives us `cs_parent` in relation to `cs_child`. Therefore the difference `cs_parent - cs_child` and `cs_01` don't share a common reference coordinate system and can't be substracted from each other. \n",
    "\n",
    "\n",
    "\n"
   ]
  },
  {
   "cell_type": "code",
   "execution_count": 6,
   "metadata": {},
   "outputs": [],
   "source": [
    "def coordinate_system_addition(parent_orientation, parent_origin, child_orientation, child_origin):   \n",
    "    cs_parent = tf.LocalCoordinateSystem(basis=parent_orientation, origin=parent_origin)\n",
    "    cs_child = tf.LocalCoordinateSystem(basis=child_orientation, origin=child_origin)\n",
    "    cs_child_ref = cs_child + cs_parent\n",
    "    \n",
    "    return [cs_parent, cs_child, cs_child_ref]"
   ]
  },
  {
   "cell_type": "markdown",
   "metadata": {},
   "source": [
    "Now just execute the following code cells:"
   ]
  },
  {
   "cell_type": "code",
   "execution_count": 7,
   "metadata": {},
   "outputs": [
    {
     "data": {
      "application/vnd.jupyter.widget-view+json": {
       "model_id": "633803287efb4bdc92396bfec364c875",
       "version_major": 2,
       "version_minor": 0
      },
      "text/plain": [
       "HBox(children=(VBox(children=(Label(value='parent origin'), FloatSlider(value=0.0, description='x', layout=Lay…"
      ]
     },
     "metadata": {},
     "output_type": "display_data"
    },
    {
     "data": {
      "application/vnd.jupyter.widget-view+json": {
       "model_id": "8558ed7042eb404a96862de9ea304885",
       "version_major": 2,
       "version_minor": 0
      },
      "text/plain": [
       "Output(layout=Layout(border='2px solid black'))"
      ]
     },
     "metadata": {},
     "output_type": "display_data"
    }
   ],
   "source": [
    "###\n",
    "###\n",
    "### NO NEED TO UNDERSTAND THIS CODE, IT CONTAINS NOTHING RELEVANT TO UNDERSTAND THIS TUTORIAL - JUST EXECUTE IT\n",
    "###\n",
    "###\n",
    "\n",
    "disp_lim = 3\n",
    "\n",
    "# create output widget that will hold the figure\n",
    "out = widgets.Output(layout={'border': '2px solid black'})\n",
    "\n",
    "# create figure inside output widget\n",
    "with out:\n",
    "    fig = plt.figure()\n",
    "    fig.canvas.layout.height=\"900px\"\n",
    "    fig.canvas.layout.width=\"900px\"\n",
    "    gs = fig.add_gridspec(3, 2)\n",
    "    ax_0 = fig.add_subplot(gs[0, 0], projection='3d')\n",
    "    ax_1 = fig.add_subplot(gs[0, 1], projection='3d')\n",
    "    ax_2 = fig.add_subplot(gs[1:, 0:], projection='3d')\n",
    "    \n",
    "def setup_axes(axes, limit, title = \"\"):\n",
    "    axes.set_xlim([-limit, limit])\n",
    "    axes.set_ylim([-limit, limit])\n",
    "    axes.set_zlim([-limit, limit])\n",
    "    axes.set_xlabel(\"x\")\n",
    "    axes.set_ylabel(\"y\")\n",
    "    axes.set_zlabel(\"z\")\n",
    "    axes.set_title(title)\n",
    "    axes.legend(loc=\"lower left\")\n",
    "    \n",
    "\n",
    "    \n",
    "def update_output(p_x, p_y, p_z, p_rx, p_ry, p_rz, c_x, c_y, c_z, c_rx, c_ry, c_rz):\n",
    "    \n",
    "    p_rx = p_rx / 180 * np.pi\n",
    "    p_ry = p_ry / 180 * np.pi\n",
    "    p_rz = p_rz / 180 * np.pi\n",
    "    c_rx = c_rx / 180 * np.pi\n",
    "    c_ry = c_ry / 180 * np.pi\n",
    "    c_rz = c_rz / 180 * np.pi\n",
    "    \n",
    "    parent_orientation = np.matmul(tf.rotation_matrix_z(p_rz),\n",
    "                                   np.matmul(tf.rotation_matrix_y(p_ry), tf.rotation_matrix_x(p_rx)))    \n",
    "    parent_origin=[p_x, p_y, p_z]\n",
    "    child_orientation = np.matmul(tf.rotation_matrix_z(c_rz),\n",
    "                                  np.matmul(tf.rotation_matrix_y(c_ry), tf.rotation_matrix_x(c_rx)))    \n",
    "    child_origin=[c_x, c_y, c_z]\n",
    "    \n",
    "    cs_ref = tf.LocalCoordinateSystem()\n",
    "    [cs_parent, cs_child, cs_child_ref] = coordinate_system_addition(parent_orientation, parent_origin, child_orientation, child_origin)\n",
    "            \n",
    "    origin_cr = cs_child_ref.origin\n",
    "    cr_x = origin_cr[0]\n",
    "    cr_y = origin_cr[1]\n",
    "    cr_z = origin_cr[2]\n",
    "    \n",
    "    ax_0.clear()\n",
    "    vs.plot_coordinate_system(cs_ref, ax_0, color='r', label=\"reference\")\n",
    "    vs.plot_coordinate_system(cs_parent, ax_0, color='g', label=\"parent\")\n",
    "    ax_0.plot([0, p_x], [0, p_y], [0, p_z], 'c--', label=\"ref -> parent\")\n",
    "    setup_axes(ax_0, disp_lim, \"'parent' in reference coordinate system\")\n",
    "    \n",
    "    \n",
    "    ax_1.clear()\n",
    "    vs.plot_coordinate_system(cs_ref, ax_1, color='g', label=\"parent\")\n",
    "    vs.plot_coordinate_system(cs_child, ax_1, color='y', label=\"child\")\n",
    "    ax_1.plot([0, c_x], [0, c_y], [0, c_z], 'm--', label=\"parent -> child\")\n",
    "    setup_axes(ax_1, disp_lim, \"'child' in 'parent' coordinate system\")\n",
    "    \n",
    "    ax_2.clear()\n",
    "    vs.plot_coordinate_system(cs_ref, ax_2, color='r', label=\"reference\")\n",
    "    vs.plot_coordinate_system(cs_parent, ax_2, color='g', label=\"parent\")\n",
    "    vs.plot_coordinate_system(cs_child_ref, ax_2, color='y', label=\"parent + child\")\n",
    "    ax_2.plot([0, p_x], [0, p_y], [0, p_z], 'c--', label=\"ref -> parent\")\n",
    "    ax_2.plot([p_x, cr_x], [p_y, cr_y], [p_z, cr_z], 'm--', label=\"parent -> child\")\n",
    "    setup_axes(ax_2, disp_lim * 2, \"'parent' and 'child' in reference coordinate system\")\n",
    "\n",
    "    \n",
    "layout = widgets.Layout(width='200px', height='40px')    \n",
    "style = {'description_width': 'initial'}\n",
    "\n",
    "w_po = dict(p_x = FloatSlider(min=-disp_lim, max=disp_lim, step=0.25, description='x', continuous_update=True, layout=layout, style=style),\n",
    "            p_y = FloatSlider(min=-disp_lim, max=disp_lim, step=0.25, description='y', continuous_update=True, layout=layout, style=style),\n",
    "            p_z = FloatSlider(min=-disp_lim, max=disp_lim, step=0.25, description='z', continuous_update=True, layout=layout, style=style))\n",
    "\n",
    "w_pr = dict(p_rx = IntSlider(min=-180, max=180, step=10, description='x', continuous_update=True, layout=layout, style=style),\n",
    "            p_ry = IntSlider(min=-180, max=180, step=10, description='y', continuous_update=True, layout=layout, style=style),\n",
    "            p_rz = IntSlider(min=-180, max=180, step=10, description='z', continuous_update=True, layout=layout, style=style))\n",
    "\n",
    "w_co = dict(c_x = FloatSlider(min=-disp_lim, max=disp_lim, step=0.25, description='x', continuous_update=True, layout=layout, style=style),\n",
    "            c_y = FloatSlider(min=-disp_lim, max=disp_lim, step=0.25, description='y', continuous_update=True, layout=layout, style=style),\n",
    "            c_z = FloatSlider(min=-disp_lim, max=disp_lim, step=0.25, description='z', continuous_update=True, layout=layout, style=style))\n",
    "\n",
    "w_cr = dict(c_rx = IntSlider(min=-180, max=180, step=10, description='x', continuous_update=True, layout=layout, style=style),\n",
    "            c_ry = IntSlider(min=-180, max=180, step=10, description='y', continuous_update=True, layout=layout, style=style),\n",
    "            c_rz = IntSlider(min=-180, max=180, step=10, description='z', continuous_update=True, layout=layout, style=style))\n",
    "\n",
    "\n",
    "\n",
    "w = {**w_po, **w_pr, **w_co, **w_cr}\n",
    "\n",
    "output = interactive_output(update_output, w)\n",
    "box_0 = VBox([widgets.Label(\"parent origin\"), *w_po.values()])\n",
    "box_1 = VBox([widgets.Label(\"parent rotation (deg)\"), *w_pr.values()])\n",
    "box_2 = VBox([widgets.Label(\"child origin\"), *w_co.values()])\n",
    "box_3 = VBox([widgets.Label(\"child rotation (deg)\"), *w_cr.values()])\n",
    "box = HBox([box_0, box_1,box_2, box_3])\n",
    "display(box)\n",
    "\n",
    "out\n",
    " "
   ]
  },
  {
   "cell_type": "code",
   "execution_count": null,
   "metadata": {},
   "outputs": [],
   "source": []
  }
 ],
 "metadata": {
  "kernelspec": {
   "display_name": "Python (test-environment)",
   "language": "python",
   "name": "test-environment"
  },
  "language_info": {
   "codemirror_mode": {
    "name": "ipython",
    "version": 3
   },
   "file_extension": ".py",
   "mimetype": "text/x-python",
   "name": "python",
   "nbconvert_exporter": "python",
   "pygments_lexer": "ipython3",
   "version": "3.7.6"
  }
 },
 "nbformat": 4,
 "nbformat_minor": 4
}
