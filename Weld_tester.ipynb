{
 "cells": [
  {
   "cell_type": "code",
   "execution_count": 1,
   "metadata": {},
   "outputs": [],
   "source": [
    "import matplotlib.pyplot as plt\n",
    "from astropy.units import Quantity\n",
    "import numpy as np\n",
    "import copy\n",
    "\n",
    "import mypackage.geometry as geo\n",
    "import mypackage.transformations as tr"
   ]
  },
  {
   "cell_type": "code",
   "execution_count": 2,
   "metadata": {},
   "outputs": [
    {
     "name": "stdout",
     "output_type": "stream",
     "text": [
      "[[2.         1.89473684 1.78947368 1.68421053 1.57894737 1.47368421\n",
      "  1.36842105 1.26315789 1.15789474 1.05263158 0.94736842 0.84210526\n",
      "  0.73684211 0.63157895 0.52631579 0.42105263 0.31578947 0.21052632\n",
      "  0.10526316 0.        ]\n",
      " [3.         2.89473684 2.78947368 2.68421053 2.57894737 2.47368421\n",
      "  2.36842105 2.26315789 2.15789474 2.05263158 1.94736842 1.84210526\n",
      "  1.73684211 1.63157895 1.52631579 1.42105263 1.31578947 1.21052632\n",
      "  1.10526316 1.        ]]\n"
     ]
    },
    {
     "data": {
      "text/plain": [
       "[<matplotlib.lines.Line2D at 0x7fac23188090>]"
      ]
     },
     "execution_count": 2,
     "metadata": {},
     "output_type": "execute_result"
    },
    {
     "data": {
      "image/png": "[encoded data removed]",
      "text/plain": [
       "<Figure size 432x288 with 1 Axes>"
      ]
     },
     "metadata": {
      "needs_background": "light"
     },
     "output_type": "display_data"
    }
   ],
   "source": [
    "seg = geo.LineSegment([[2,0],[3,1]])\n",
    "seg_data = seg.rasterize(0.15)\n",
    "print(seg_data)\n",
    "plt.plot(seg_data[0], seg_data[1])"
   ]
  },
  {
   "cell_type": "code",
   "execution_count": 3,
   "metadata": {},
   "outputs": [
    {
     "data": {
      "text/plain": [
       "{'t': <Quantity 0.009 m>,\n",
       " 'alpha': <Quantity 40. deg>,\n",
       " 'b': <Quantity 0.2 cm>,\n",
       " 'c': <Quantity 1. mm>}"
      ]
     },
     "execution_count": 3,
     "metadata": {},
     "output_type": "execute_result"
    }
   ],
   "source": [
    "# Values for the Single V Groove Butt Weld\n",
    "# in a dictionary\n",
    "t = Quantity(0.009,unit=\"meter\")\n",
    "alpha = Quantity(40, unit=\"deg\")\n",
    "b = Quantity(0.2, unit=\"centimeter\")\n",
    "c = Quantity(1, unit=\"millimeter\")\n",
    "v_naht_dict = dict(t=t, alpha=alpha, b=b, c=c)\n",
    "width_default = Quantity(5, unit=\"millimeter\")\n",
    "v_naht_dict"
   ]
  },
  {
   "cell_type": "code",
   "execution_count": 4,
   "metadata": {},
   "outputs": [],
   "source": [
    "# V-naht berechnungen und erstellen der einzelnen Teilsegmente\n",
    "bottom = geo.LineSegment([[-width_default.to_value(\"millimeter\"),0],[0,0]])\n",
    "root_face = geo.LineSegment([[0,0],[0,v_naht_dict[\"b\"].to_value(\"millimeter\")]])\n",
    "alpha_halbe = v_naht_dict[\"alpha\"].to_value(\"deg\")/2\n",
    "s = np.tan(alpha_halbe)\n",
    "groove_face = geo.LineSegment([[0,-s],[v_naht_dict[\"b\"].to_value(\"millimeter\"),\n",
    "                                       v_naht_dict[\"t\"].to_value(\"millimeter\")]])\n",
    "top = geo.LineSegment([[-s, -width_default.to_value(\"millimeter\")],\n",
    "                         [v_naht_dict[\"t\"].to_value(\"millimeter\"),\n",
    "                          v_naht_dict[\"t\"].to_value(\"millimeter\")]])"
   ]
  },
  {
   "cell_type": "code",
   "execution_count": 5,
   "metadata": {},
   "outputs": [
    {
     "data": {
      "text/plain": [
       "[<matplotlib.lines.Line2D at 0x7fac2312c5d0>]"
      ]
     },
     "execution_count": 5,
     "metadata": {},
     "output_type": "execute_result"
    },
    {
     "data": {
      "image/png": "[encoded data removed]",
      "text/plain": [
       "<Figure size 432x288 with 1 Axes>"
      ]
     },
     "metadata": {
      "needs_background": "light"
     },
     "output_type": "display_data"
    }
   ],
   "source": [
    "# Segmente zusammenfassen zu shape\n",
    "segment_list = []\n",
    "segment_list.append(bottom)\n",
    "segment_list.append(root_face)\n",
    "segment_list.append(groove_face)\n",
    "segment_list.append(top)\n",
    "shape = geo.Shape(segment_list)\n",
    "\n",
    "shape_data = shape.rasterize(0.8)\n",
    "\n",
    "ax = plt.gca()\n",
    "ax.cla()\n",
    "ax.axis(\"equal\")\n",
    "\n",
    "plt.plot(shape_data[0],shape_data[1],\"r-\")"
   ]
  },
  {
   "cell_type": "code",
   "execution_count": 6,
   "metadata": {},
   "outputs": [
    {
     "name": "stdout",
     "output_type": "stream",
     "text": [
      "1.0\n"
     ]
    },
    {
     "data": {
      "text/plain": [
       "[<matplotlib.lines.Line2D at 0x7fac230a2b90>]"
      ]
     },
     "execution_count": 6,
     "metadata": {},
     "output_type": "execute_result"
    },
    {
     "data": {
      "image/png": "[encoded data removed]",
      "text/plain": [
       "<Figure size 432x288 with 1 Axes>"
      ]
     },
     "metadata": {
      "needs_background": "light"
     },
     "output_type": "display_data"
    }
   ],
   "source": [
    "# shape verschieben und verdoppeln\n",
    "b_halbe = v_naht_dict[\"b\"].to_value(\"millimeter\")/2\n",
    "print(b_halbe)\n",
    "shape = shape.translate([-b_halbe, 0])\n",
    "shape_r = shape.reflect_across_line([0, 0], [0, 1])\n",
    "\n",
    "shape_r_data = shape_r.rasterize(0.1)\n",
    "\n",
    "ax = plt.gca()\n",
    "ax.cla()\n",
    "ax.axis(\"equal\")\n",
    "\n",
    "plt.plot(shape_r_data[0],shape_r_data[1],\"r-\")"
   ]
  },
  {
   "cell_type": "code",
   "execution_count": 7,
   "metadata": {},
   "outputs": [],
   "source": [
    "# profil erstellen\n",
    "profile = geo.Profile([shape, shape_r])"
   ]
  },
  {
   "cell_type": "code",
   "execution_count": 11,
   "metadata": {},
   "outputs": [
    {
     "data": {
      "text/plain": [
       "[<matplotlib.lines.Line2D at 0x7fac22eda850>]"
      ]
     },
     "execution_count": 11,
     "metadata": {},
     "output_type": "execute_result"
    },
    {
     "data": {
      "image/png": "[encoded data removed]",
      "text/plain": [
       "<Figure size 432x288 with 1 Axes>"
      ]
     },
     "metadata": {
      "needs_background": "light"
     },
     "output_type": "display_data"
    }
   ],
   "source": [
    "profile_data = profile.rasterize(0.3)\n",
    "shape_data = shape.rasterize(0.3)\n",
    "shape_r_data = shape_r.rasterize(0.3)\n",
    "\n",
    "ax = plt.gca()\n",
    "ax.cla()\n",
    "ax.axis(\"equal\")\n",
    "\n",
    "plt.plot(shape_data[0],shape_data[1],\"r.\")\n",
    "plt.plot(shape_r_data[0],shape_r_data[1],\"r.\")\n",
    "#plt.plot(profile_data[0],profile_data[1],\"--\")"
   ]
  },
  {
   "cell_type": "code",
   "execution_count": 12,
   "metadata": {},
   "outputs": [
    {
     "data": {
      "text/plain": [
       "[<matplotlib.lines.Line2D at 0x7fac22ec4dd0>]"
      ]
     },
     "execution_count": 12,
     "metadata": {},
     "output_type": "execute_result"
    },
    {
     "data": {
      "image/png": "[encoded data removed]",
      "text/plain": [
       "<Figure size 432x288 with 1 Axes>"
      ]
     },
     "metadata": {
      "needs_background": "light"
     },
     "output_type": "display_data"
    }
   ],
   "source": [
    "h = len(profile_data[0])//2\n",
    "\n",
    "ax = plt.gca()\n",
    "ax.cla()\n",
    "ax.axis(\"equal\")\n",
    "\n",
    "plt.plot(profile_data[0][:h],\n",
    "        profile_data[1][:h], \".\")\n",
    "plt.plot(profile_data[0][h:],\n",
    "        profile_data[1][h:], \".\")"
   ]
  },
  {
   "cell_type": "markdown",
   "metadata": {},
   "source": [
    "# Loading from file"
   ]
  },
  {
   "cell_type": "code",
   "execution_count": 1,
   "metadata": {},
   "outputs": [],
   "source": [
    "import matplotlib.pyplot as plt\n",
    "from mypackage.all_groove import singleVGrooveButtWeld, singleUGrooveButtWeld\n",
    "from astropy.units import Quantity"
   ]
  },
  {
   "cell_type": "code",
   "execution_count": 2,
   "metadata": {},
   "outputs": [],
   "source": [
    "# Values for the Single V Groove Butt Weld\n",
    "# in a dictionary\n",
    "t = Quantity(0.009,unit=\"meter\")\n",
    "alpha = Quantity(40, unit=\"deg\")\n",
    "b = Quantity(0, unit=\"centimeter\")\n",
    "c = Quantity(1, unit=\"millimeter\")\n",
    "v_naht_dict = dict(t=t, alpha=alpha, b=b, c=c)"
   ]
  },
  {
   "cell_type": "code",
   "execution_count": 3,
   "metadata": {},
   "outputs": [],
   "source": [
    "profile = singleVGrooveButtWeld(v_naht_dict)"
   ]
  },
  {
   "cell_type": "code",
   "execution_count": 4,
   "metadata": {},
   "outputs": [
    {
     "data": {
      "text/plain": [
       "[<matplotlib.lines.Line2D at 0x7f54ef7ce7d0>]"
      ]
     },
     "execution_count": 4,
     "metadata": {},
     "output_type": "execute_result"
    },
    {
     "data": {
      "image/png": "[encoded data removed]",
      "text/plain": [
       "<Figure size 432x288 with 1 Axes>"
      ]
     },
     "metadata": {
      "needs_background": "light"
     },
     "output_type": "display_data"
    }
   ],
   "source": [
    "profile_data = profile.rasterize(0.2)\n",
    "\n",
    "ax = plt.gca()\n",
    "ax.cla()\n",
    "#ax.axis(\"equal\")\n",
    "ax.axis([-7, +7, -1, 20])\n",
    "ax.grid(True)\n",
    "ax.set(title=\"single V Groove Butt Weld {}° groove angle\".format(alpha.value), xlabel=\"millimeter\", ylabel=\"millimeter\")\n",
    "\n",
    "plt.plot(profile_data[0],profile_data[1],\".\")"
   ]
  },
  {
   "cell_type": "code",
   "execution_count": 5,
   "metadata": {},
   "outputs": [],
   "source": [
    "# Values for the Single V Groove Butt Weld\n",
    "# in a dictionary\n",
    "t = Quantity(0.009,unit=\"meter\")\n",
    "alpha = Quantity(60, unit=\"deg\")\n",
    "b = Quantity(0.2, unit=\"centimeter\")\n",
    "c = Quantity(1, unit=\"millimeter\")\n",
    "v_naht_dict = dict(t=t, alpha=alpha, b=b, c=c)"
   ]
  },
  {
   "cell_type": "code",
   "execution_count": 6,
   "metadata": {},
   "outputs": [],
   "source": [
    "profile = singleVGrooveButtWeld(v_naht_dict)"
   ]
  },
  {
   "cell_type": "code",
   "execution_count": 7,
   "metadata": {},
   "outputs": [
    {
     "data": {
      "text/plain": [
       "[<matplotlib.lines.Line2D at 0x7f54ef6e1f50>]"
      ]
     },
     "execution_count": 7,
     "metadata": {},
     "output_type": "execute_result"
    },
    {
     "data": {
      "image/png": "[encoded data removed]",
      "text/plain": [
       "<Figure size 432x288 with 1 Axes>"
      ]
     },
     "metadata": {
      "needs_background": "light"
     },
     "output_type": "display_data"
    }
   ],
   "source": [
    "profile_data = profile.rasterize(0.2)\n",
    "\n",
    "ax = plt.gca()\n",
    "ax.cla()\n",
    "#ax.axis(\"equal\")\n",
    "ax.axis([-7, +7, -1, 20])\n",
    "#[xmin, xmax, ymin, ymax]\n",
    "ax.grid(True)\n",
    "ax.set(title=\"single V Groove Butt Weld {}° groove angle\".format(alpha.value), xlabel=\"millimeter\", ylabel=\"millimeter\")\n",
    "\n",
    "plt.plot(profile_data[0],profile_data[1],\".\")"
   ]
  },
  {
   "cell_type": "code",
   "execution_count": 8,
   "metadata": {},
   "outputs": [],
   "source": [
    "t = Quantity(15, unit=\"millimeter\")\n",
    "beta = Quantity(9, unit=\"deg\")\n",
    "R = Quantity(6, unit=\"millimeter\")\n",
    "b = Quantity(3, unit=\"millimeter\")\n",
    "c = Quantity(1, unit=\"millimeter\")\n",
    "u_naht_dict = dict(t=t, beta=beta, R=R, b=b, c=c)"
   ]
  },
  {
   "cell_type": "code",
   "execution_count": 9,
   "metadata": {},
   "outputs": [],
   "source": [
    "profile = singleUGrooveButtWeld(u_naht_dict)"
   ]
  },
  {
   "cell_type": "code",
   "execution_count": 10,
   "metadata": {},
   "outputs": [
    {
     "data": {
      "text/plain": [
       "[<matplotlib.lines.Line2D at 0x7f54ef60b890>]"
      ]
     },
     "execution_count": 10,
     "metadata": {},
     "output_type": "execute_result"
    },
    {
     "data": {
      "image/png": "[encoded data removed]",
      "text/plain": [
       "<Figure size 432x288 with 1 Axes>"
      ]
     },
     "metadata": {
      "needs_background": "light"
     },
     "output_type": "display_data"
    }
   ],
   "source": [
    "profile_data = profile.rasterize(0.2)\n",
    "\n",
    "ax = plt.gca()\n",
    "ax.cla()\n",
    "ax.axis(\"equal\")\n",
    "#ax.axis([-7, +7, -1, 20])\n",
    "#[xmin, xmax, ymin, ymax]\n",
    "ax.grid(True)\n",
    "ax.set(title=\"single U Groove Butt Weld {}° groove angle\".format(beta.value), xlabel=\"millimeter\", ylabel=\"millimeter\")\n",
    "\n",
    "plt.plot(profile_data[0],profile_data[1],\".\")"
   ]
  }
 ],
 "metadata": {
  "kernelspec": {
   "display_name": "libo (stable)",
   "language": "python",
   "name": "libo_stable"
  },
  "language_info": {
   "codemirror_mode": {
    "name": "ipython",
    "version": 3
   },
   "file_extension": ".py",
   "mimetype": "text/x-python",
   "name": "python",
   "nbconvert_exporter": "python",
   "pygments_lexer": "ipython3",
   "version": "3.7.6"
  }
 },
 "nbformat": 4,
 "nbformat_minor": 4
}
